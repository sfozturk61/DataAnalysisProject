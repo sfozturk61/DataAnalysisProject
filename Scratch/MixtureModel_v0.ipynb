{
 "cells": [
  {
   "cell_type": "code",
   "execution_count": 1,
   "metadata": {},
   "outputs": [],
   "source": [
    "%matplotlib inline \n",
    "\n",
    "import matplotlib as mpl\n",
    "import numpy as np\n",
    "import matplotlib.pyplot as plt\n",
    "import pymc3 as pm\n",
    "import theano.tensor as tt"
   ]
  },
  {
   "cell_type": "markdown",
   "metadata": {},
   "source": [
    "## Generate Data"
   ]
  },
  {
   "cell_type": "code",
   "execution_count": 2,
   "metadata": {},
   "outputs": [],
   "source": [
    "def photon_counts(N, M, N_atom, N_photon, std, N_backg=100, lam_backg=1, plot=True):\n",
    "    '''\n",
    "    Generates positions of photon counts from the randomly placed atoms on a lattice and from Poissonian dark counts.\n",
    "    \n",
    "    Parameters\n",
    "    ----------\n",
    "    N : integer\n",
    "        number of lattice sites along one direction (NxN)\n",
    "    M: integer\n",
    "        number of camera pixels per lattice site along one direction (MxM)\n",
    "    N_atom: integer\n",
    "        total number of atoms on the lattice\n",
    "    std: float\n",
    "        standard deviation of the Gaussian that is sampled from\n",
    "    N_photons: integer\n",
    "        number of photons sampled from an atom\n",
    "    N_backg: integer\n",
    "        number of samples drawn from the Poisson distribution for the background noise\n",
    "    lam_back: float\n",
    "        expectation interval of the Poisson dark count event\n",
    "        \n",
    "    Returns\n",
    "    -------\n",
    "    xloc, yloc = array\n",
    "        x and y positions of all the photon counts\n",
    "    '''\n",
    "        \n",
    "    #Randomly place atoms on the lattice\n",
    "    atom_location = np.random.choice(np.arange(N*N), N_atom, replace=False) #pick atom position randomly from NxN array\n",
    "    atom_location_index = (np.unravel_index(atom_location, (N,N)) - np.ones((2, N_atom))*((N-1)/2)) * M #convert the atom location number to x,y atom location index\n",
    "    x_index = atom_location_index[0,:] #atoms x location\n",
    "    y_index = atom_location_index[1,:] #atoms y location\n",
    "    \n",
    "    #Store actual occupation of the atoms for future comparison with the inferred one\n",
    "    lims = np.arange(0, (N+1)*M, M) - (N*M)/2\n",
    "    actual_lattice = np.zeros((N, N));\n",
    "    for ny in range(N):\n",
    "        for nx in range(N):\n",
    "            actual_lattice[ny, nx] = np.sum(np.where((x_index > lims[nx]) & (x_index < lims[nx+1]) & (y_index > lims[-(ny+2)]) & (y_index < lims[-(ny+1)]), 1, 0))\n",
    "        \n",
    "    #For each atom sample photons from a Gaussian centered on the lattice site, combine the x,y positions of the counts\n",
    "    x_loc = np.array([])\n",
    "    y_loc = np.array([])\n",
    "    for i in range(N_atom):\n",
    "        xx, yy = np.random.multivariate_normal([x_index[i], y_index[i]], [[std, 0], [0, std]], N_photon).T #at each atom location sample N_photons from a Gaussian\n",
    "        x_loc = np.concatenate((x_loc, xx)) #combine the sampled x-locations for each atom\n",
    "        y_loc = np.concatenate((y_loc, yy)) #combine the sampled y-locations for each atom\n",
    "        \n",
    "    #Generate dark counts which is the background noise of the camera. Combine dark photon locations with scattered photon locations.\n",
    "    CCD_x = np.arange(0, N*M, 0.2) - ((N*M)/2) #x-pixel locations\n",
    "    CCD_y = np.arange(0, N*M, 0.2) - ((N*M)/2) #y-pixel locations\n",
    "    dark_count = np.random.poisson(lam_backg, N_backg) #create dark counts sampling from a Poisson distribution, this gives numbers corresponding to number of dark counts\n",
    "    dark_count_location_x = np.random.choice(CCD_x, np.sum(dark_count), replace=True) #pick a random x location for the dark counts\n",
    "    dark_count_location_y = np.random.choice(CCD_y, np.sum(dark_count), replace=True) #pick a random y location for the dark counts\n",
    "    x_loc = np.concatenate((x_loc, dark_count_location_x)) #combine the sampled x-locations from atoms and dark counts\n",
    "    y_loc = np.concatenate((y_loc, dark_count_location_y)) #combine the sampled y-locations from atoms and dark counts\n",
    "    \n",
    "    #Plot the image (collected photons) on the camera.\n",
    "    if plot:      \n",
    "        fig = plt.figure(figsize=(8, 8))\n",
    "        ax = fig.add_subplot(1,1,1)\n",
    "        im = plt.plot(x_loc, y_loc, 'ko', markersize=1) #plot counts\n",
    "        ax.set_xticks(np.arange(0, (N+3)*M, M) - (((N+2)*M)/2)) #vertical lines as visual aid\n",
    "        ax.set_yticks(np.arange(0, (N+3)*M, M) - (((N+2)*M)/2)) #horizontal lines as visual aid\n",
    "        ax.grid(True, color=\"black\")\n",
    "        \n",
    "    return actual_lattice, x_loc, y_loc"
   ]
  },
  {
   "cell_type": "markdown",
   "metadata": {},
   "source": [
    "## Visualize Data"
   ]
  },
  {
   "cell_type": "code",
   "execution_count": 3,
   "metadata": {},
   "outputs": [
    {
     "name": "stdout",
     "output_type": "stream",
     "text": [
      "Wall time: 24.9 ms\n"
     ]
    },
    {
     "data": {
      "text/plain": [
       "array([[0., 0., 1., 0., 0.],\n",
       "       [0., 0., 1., 0., 0.],\n",
       "       [0., 1., 0., 0., 0.],\n",
       "       [0., 0., 1., 0., 0.],\n",
       "       [0., 0., 0., 1., 0.]])"
      ]
     },
     "execution_count": 3,
     "metadata": {},
     "output_type": "execute_result"
    },
    {
     "data": {
      "image/png": "[encoded data removed]",
      "text/plain": [
       "<Figure size 576x576 with 1 Axes>"
      ]
     },
     "metadata": {
      "needs_background": "light"
     },
     "output_type": "display_data"
    }
   ],
   "source": [
    "%time actual_lattice, x_loc, y_loc = photon_counts(N=5, M=10, N_atom=5, N_photon=100, std=2, N_backg=100, lam_backg=0.5, plot=True)\n",
    "actual_lattice"
   ]
  },
  {
   "cell_type": "markdown",
   "metadata": {},
   "source": [
    "## Mixture Model v0"
   ]
  },
  {
   "cell_type": "code",
   "execution_count": 64,
   "metadata": {},
   "outputs": [],
   "source": [
    "def mixture_model(x, y, std, xsite, ysite):\n",
    "\n",
    "    with pm.Model() as test_model:\n",
    "\n",
    "        #Prior\n",
    "        P = pm.Uniform('P', lower=0, upper=1)\n",
    "        \n",
    "        xc = (xsite[0]+xsite[1])/2 #x center of the site\n",
    "        yc = (ysite[0]+ysite[1])/2 #y center of the site\n",
    "\n",
    "        #Photons scattered from the atoms are Gaussian distributed\n",
    "        atom_x = pm.Normal.dist(mu=xc, sigma=std).logp(x)\n",
    "        atom_y = pm.Normal.dist(mu=yc, sigma=std).logp(y)\n",
    "        atom = atom_x + atom_y\n",
    "        \n",
    "        #Photons from the camera background are uniform distributed\n",
    "        background_x = pm.Uniform.dist(lower = xsite[0], upper = xsite[1]).logp(x)\n",
    "        background_y = pm.Uniform.dist(lower = ysite[0], upper = ysite[1]).logp(y)\n",
    "        background = background_x + background_y\n",
    "        \n",
    "        #Log-likelihood\n",
    "        log_like = tt.log((P * tt.exp(atom) + (1-P) * tt.exp(background)))\n",
    "\n",
    "        pm.Potential('logp', log_like.sum())\n",
    "        \n",
    "    map_estimate = pm.find_MAP(model=test_model)\n",
    "    return map_estimate[\"P\"][0]"
   ]
  },
  {
   "cell_type": "code",
   "execution_count": 65,
   "metadata": {},
   "outputs": [],
   "source": [
    "def run_mixture_model(x_loc, y_loc, N, M, std):\n",
    "    P_array = np.zeros((N,N))\n",
    "    lims = np.arange(0, (N+1)*M, M) - (N*M)/2\n",
    "    for ny in range(N):\n",
    "        for nx in range(N):\n",
    "            x = np.where((x_loc > lims[nx]) & (x_loc <= lims[nx+1]) & (y_loc > lims[-(ny+2)]) & (y_loc <= lims[-(ny+1)]), x_loc, np.pi)\n",
    "            x_new = x[x != np.pi]\n",
    "            y = np.where((x_loc > lims[nx]) & (x_loc <= lims[nx+1]) & (y_loc > lims[-(ny+2)]) & (y_loc <= lims[-(ny+1)]), y_loc, np.pi)\n",
    "            y_new = y[y != np.pi]\n",
    "\n",
    "            xsite = np.array([lims[nx], lims[nx+1]])\n",
    "            ysite = np.array([lims[-(ny+2)], lims[-(ny+1)]])\n",
    "            \n",
    "            P_array[ny,nx] = mixture_model(x_new, y_new, std, xsite, ysite)\n",
    "    return P_array"
   ]
  },
  {
   "cell_type": "code",
   "execution_count": 87,
   "metadata": {},
   "outputs": [
    {
     "data": {
      "image/png": "[encoded data removed]",
      "text/plain": [
       "<Figure size 576x576 with 1 Axes>"
      ]
     },
     "metadata": {
      "needs_background": "light"
     },
     "output_type": "display_data"
    }
   ],
   "source": [
    "N = 3\n",
    "M = 10\n",
    "N_atom =5\n",
    "N_photon = 200\n",
    "std = 1\n",
    "\n",
    "actual_lattice, x_loc, y_loc = photon_counts(N=N, M=M, N_atom=N_atom, N_photon=N_photon, std=std, N_backg=100, lam_backg=1, plot=True)"
   ]
  },
  {
   "cell_type": "code",
   "execution_count": 88,
   "metadata": {},
   "outputs": [
    {
     "name": "stderr",
     "output_type": "stream",
     "text": [
      "logp = -78.291, ||grad|| = 0.003565: 100%|███████████████████████████████████████████| 21/21 [00:00<00:00, 7017.24it/s]\n",
      "logp = -695.7, ||grad|| = 59.357: 100%|██████████████████████████████████████████████| 10/10 [00:00<00:00, 5009.92it/s]\n",
      "logp = -68.87, ||grad|| = 2.7483: 100%|████████████████████████████████████████████████| 7/7 [00:00<00:00, 3509.88it/s]\n",
      "logp = -682.08, ||grad|| = 62.986: 100%|█████████████████████████████████████████████| 11/11 [00:00<00:00, 5513.54it/s]\n",
      "logp = -736.92, ||grad|| = 55.32: 100%|████████████████████████████████████████████████| 9/9 [00:00<00:00, 4511.62it/s]\n",
      "logp = -733.97, ||grad|| = 59.679: 100%|█████████████████████████████████████████████| 10/10 [00:00<00:00, 3385.51it/s]\n",
      "logp = -692.57, ||grad|| = 63.499: 100%|█████████████████████████████████████████████| 11/11 [00:00<00:00, 5515.52it/s]\n",
      "logp = -59.87, ||grad|| = 0.0029955: 100%|███████████████████████████████████████████| 21/21 [00:00<00:00, 4211.35it/s]\n",
      "logp = -36.844, ||grad|| = 0.0023793: 100%|██████████████████████████████████████████| 20/20 [00:00<00:00, 4982.54it/s]\n"
     ]
    }
   ],
   "source": [
    "P = run_mixture_model(x_loc, y_loc, N, M, std) * 100"
   ]
  },
  {
   "cell_type": "code",
   "execution_count": 89,
   "metadata": {},
   "outputs": [
    {
     "name": "stdout",
     "output_type": "stream",
     "text": [
      "[[ 0.  96.1 21.9]\n",
      " [96.6 92.9 93.6]\n",
      " [97.4  0.   0. ]]\n"
     ]
    }
   ],
   "source": [
    "np.set_printoptions(precision=1, suppress=True)\n",
    "print(P)"
   ]
  },
  {
   "cell_type": "code",
   "execution_count": null,
   "metadata": {},
   "outputs": [],
   "source": []
  }
 ],
 "metadata": {
  "kernelspec": {
   "display_name": "Python 3",
   "language": "python",
   "name": "python3"
  },
  "language_info": {
   "codemirror_mode": {
    "name": "ipython",
    "version": 3
   },
   "file_extension": ".py",
   "mimetype": "text/x-python",
   "name": "python",
   "nbconvert_exporter": "python",
   "pygments_lexer": "ipython3",
   "version": "3.7.4"
  }
 },
 "nbformat": 4,
 "nbformat_minor": 4
}
