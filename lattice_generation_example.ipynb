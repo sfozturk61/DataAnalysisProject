{
 "cells": [
  {
   "cell_type": "code",
   "execution_count": 1,
   "metadata": {},
   "outputs": [],
   "source": [
    "%matplotlib inline \n",
    "\n",
    "from lattice_generation import GeneratedLatticeImage"
   ]
  },
  {
   "cell_type": "code",
   "execution_count": 16,
   "metadata": {},
   "outputs": [],
   "source": [
    "N = 3\n",
    "M = 10\n",
    "N_atom = 5\n",
    "N_photon = 100\n",
    "std = 1\n",
    "N_backg = 100\n",
    "lam_backg = 1"
   ]
  },
  {
   "cell_type": "code",
   "execution_count": 17,
   "metadata": {},
   "outputs": [],
   "source": [
    "lattice_image = GeneratedLatticeImage(\n",
    "    N=N,\n",
    "    M=M,\n",
    "    N_atom=N_atom,\n",
    "    N_photon=N_photon,\n",
    "    std=std,\n",
    "    N_backg=N_backg, \n",
    "    lam_backg=lam_backg\n",
    ")"
   ]
  },
  {
   "cell_type": "code",
   "execution_count": 18,
   "metadata": {},
   "outputs": [
    {
     "data": {
      "image/png": "[encoded data removed]",
      "text/plain": [
       "<Figure size 800x800 with 1 Axes>"
      ]
     },
     "metadata": {
      "needs_background": "light"
     },
     "output_type": "display_data"
    }
   ],
   "source": [
    "lattice_image.plot()"
   ]
  },
  {
   "cell_type": "code",
   "execution_count": 19,
   "metadata": {},
   "outputs": [
    {
     "data": {
      "text/plain": [
       "array([[0., 1., 1.],\n",
       "       [0., 1., 1.],\n",
       "       [0., 1., 0.]])"
      ]
     },
     "execution_count": 19,
     "metadata": {},
     "output_type": "execute_result"
    }
   ],
   "source": [
    "lattice_image.actual_lattice"
   ]
  },
  {
   "cell_type": "markdown",
   "metadata": {},
   "source": [
    "## Analysis Part"
   ]
  },
  {
   "cell_type": "code",
   "execution_count": 20,
   "metadata": {},
   "outputs": [],
   "source": [
    "from lattice_analysis import AnalyzeLatticeImages"
   ]
  },
  {
   "cell_type": "code",
   "execution_count": 21,
   "metadata": {},
   "outputs": [],
   "source": [
    "x_loc = lattice_image.x_loc\n",
    "y_loc = lattice_image.y_loc"
   ]
  },
  {
   "cell_type": "code",
   "execution_count": 22,
   "metadata": {},
   "outputs": [
    {
     "name": "stderr",
     "output_type": "stream",
     "text": [
      "logp = -36.844, ||grad|| = 0.0025588: 100%|██████████████████████████████████████████| 20/20 [00:00<00:00, 5020.71it/s]\n",
      "logp = -367.79, ||grad|| = 30.516: 100%|███████████████████████████████████████████████| 9/9 [00:00<00:00, 4508.93it/s]\n",
      "logp = -373.45, ||grad|| = 28.898: 100%|███████████████████████████████████████████████| 9/9 [00:00<00:00, 4601.82it/s]\n",
      "logp = -59.821, ||grad|| = 2.6483e-06: 100%|█████████████████████████████████████████| 12/12 [00:00<00:00, 4043.68it/s]\n",
      "logp = -392.36, ||grad|| = 27.29: 100%|████████████████████████████████████████████████| 8/8 [00:00<00:00, 4009.85it/s]\n",
      "logp = -368.52, ||grad|| = 29.66: 100%|██████████████████████████████████████████████| 10/10 [00:00<00:00, 5006.93it/s]\n",
      "logp = -66.495, ||grad|| = 3.1344: 100%|███████████████████████████████████████████████| 9/9 [00:00<00:00, 4616.45it/s]\n",
      "logp = -401.42, ||grad|| = 29.201: 100%|███████████████████████████████████████████████| 8/8 [00:00<00:00, 4069.67it/s]\n",
      "logp = -41.45, ||grad|| = 0.0030301: 100%|███████████████████████████████████████████| 21/21 [00:00<00:00, 4211.55it/s]\n"
     ]
    },
    {
     "name": "stdout",
     "output_type": "stream",
     "text": [
      "Wall time: 24.2 s\n"
     ]
    }
   ],
   "source": [
    "%time P = AnalyzeLatticeImages(N, M, std, x_loc, y_loc)"
   ]
  },
  {
   "cell_type": "code",
   "execution_count": 23,
   "metadata": {},
   "outputs": [
    {
     "name": "stdout",
     "output_type": "stream",
     "text": [
      "[[0.  0.9 0.9]\n",
      " [0.  0.9 0.9]\n",
      " [0.1 0.9 0. ]]\n"
     ]
    }
   ],
   "source": [
    "AnalyzeLatticeImages.print_occupation(P)"
   ]
  },
  {
   "cell_type": "code",
   "execution_count": null,
   "metadata": {},
   "outputs": [],
   "source": []
  }
 ],
 "metadata": {
  "kernelspec": {
   "display_name": "Python 3",
   "language": "python",
   "name": "python3"
  },
  "language_info": {
   "codemirror_mode": {
    "name": "ipython",
    "version": 3
   },
   "file_extension": ".py",
   "mimetype": "text/x-python",
   "name": "python",
   "nbconvert_exporter": "python",
   "pygments_lexer": "ipython3",
   "version": "3.7.4"
  }
 },
 "nbformat": 4,
 "nbformat_minor": 4
}
