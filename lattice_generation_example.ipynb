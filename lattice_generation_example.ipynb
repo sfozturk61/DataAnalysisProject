{
 "cells": [
  {
   "cell_type": "code",
   "execution_count": 1,
   "metadata": {},
   "outputs": [],
   "source": [
    "%matplotlib inline \n",
    "\n",
    "from lattice_generation import GeneratedLatticeImage"
   ]
  },
  {
   "cell_type": "code",
   "execution_count": 2,
   "metadata": {},
   "outputs": [],
   "source": [
    "N = 2\n",
    "M = 10\n",
    "N_atom = 2\n",
    "N_photon = 100\n",
    "std=1\n",
    "N_backg=100\n",
    "lam_backg=1"
   ]
  },
  {
   "cell_type": "code",
   "execution_count": 3,
   "metadata": {},
   "outputs": [],
   "source": [
    "lattice_image = GeneratedLatticeImage(\n",
    "    N=N,\n",
    "    M=M,\n",
    "    N_atom=N_atom,\n",
    "    N_photon=N_photon,\n",
    "    std=std,\n",
    "    N_backg=N_backg, \n",
    "    lam_backg=lam_backg\n",
    ")"
   ]
  },
  {
   "cell_type": "code",
   "execution_count": 4,
   "metadata": {},
   "outputs": [
    {
     "data": {
      "image/png": "[encoded data removed]",
      "text/plain": [
       "<Figure size 800x800 with 1 Axes>"
      ]
     },
     "metadata": {
      "needs_background": "light"
     },
     "output_type": "display_data"
    }
   ],
   "source": [
    "lattice_image.plot()"
   ]
  },
  {
   "cell_type": "code",
   "execution_count": 5,
   "metadata": {},
   "outputs": [
    {
     "data": {
      "text/plain": [
       "array([[1., 1.],\n",
       "       [0., 0.]])"
      ]
     },
     "execution_count": 5,
     "metadata": {},
     "output_type": "execute_result"
    }
   ],
   "source": [
    "lattice_image.actual_lattice"
   ]
  },
  {
   "cell_type": "markdown",
   "metadata": {},
   "source": [
    "## Analysis Part"
   ]
  },
  {
   "cell_type": "code",
   "execution_count": 6,
   "metadata": {},
   "outputs": [
    {
     "ename": "SyntaxError",
     "evalue": "invalid syntax (lattice_analysis.py, line 41)",
     "output_type": "error",
     "traceback": [
      "Traceback \u001b[1;36m(most recent call last)\u001b[0m:\n",
      "  File \u001b[0;32m\"C:\\Users\\sfozt\\Anaconda3\\lib\\site-packages\\IPython\\core\\interactiveshell.py\"\u001b[0m, line \u001b[0;32m3326\u001b[0m, in \u001b[0;35mrun_code\u001b[0m\n    exec(code_obj, self.user_global_ns, self.user_ns)\n",
      "\u001b[1;36m  File \u001b[1;32m\"<ipython-input-6-afbb32b38f31>\"\u001b[1;36m, line \u001b[1;32m1\u001b[1;36m, in \u001b[1;35m<module>\u001b[1;36m\u001b[0m\n\u001b[1;33m    from lattice_analysis import AnalyzeLatticeImages\u001b[0m\n",
      "\u001b[1;36m  File \u001b[1;32m\"C:\\Users\\sfozt\\Documents\\GitHub\\PHYS201_TermProject\\lattice_analysis.py\"\u001b[1;36m, line \u001b[1;32m41\u001b[0m\n\u001b[1;33m    def print_occupation(self)\u001b[0m\n\u001b[1;37m                              ^\u001b[0m\n\u001b[1;31mSyntaxError\u001b[0m\u001b[1;31m:\u001b[0m invalid syntax\n"
     ]
    }
   ],
   "source": [
    "from lattice_analysis import AnalyzeLatticeImages"
   ]
  },
  {
   "cell_type": "code",
   "execution_count": 7,
   "metadata": {},
   "outputs": [],
   "source": [
    "x_loc = lattice_image.x_loc\n",
    "y_loc = lattice_image.y_loc"
   ]
  },
  {
   "cell_type": "code",
   "execution_count": 12,
   "metadata": {},
   "outputs": [
    {
     "name": "stderr",
     "output_type": "stream",
     "text": [
      "logp = -437.16, ||grad|| = 27.058: 100%|███████████████████████████████████████████████| 8/8 [00:00<00:00, 4004.59it/s]\n",
      "logp = -399.93, ||grad|| = 29.335: 100%|███████████████████████████████████████████████| 8/8 [00:00<00:00, 4008.89it/s]\n",
      "logp = -84.006, ||grad|| = 3.8409: 100%|███████████████████████████████████████████████| 8/8 [00:00<00:00, 8019.70it/s]\n",
      "logp = -81.968, ||grad|| = 4.2038: 100%|█████████████████████████████████████████████| 11/11 [00:00<00:00, 5516.84it/s]\n"
     ]
    },
    {
     "name": "stdout",
     "output_type": "stream",
     "text": [
      "Wall time: 2.98 s\n"
     ]
    }
   ],
   "source": [
    "%time P = AnalyzeLatticeImages(N, M, std, x_loc, y_loc)"
   ]
  },
  {
   "cell_type": "code",
   "execution_count": 11,
   "metadata": {},
   "outputs": [
    {
     "name": "stdout",
     "output_type": "stream",
     "text": [
      "<lattice_analysis.AnalyzeLatticeImages object at 0x0000027569B72808>\n"
     ]
    }
   ],
   "source": [
    "#np.set_printoptions(precision=1, suppress=True)\n",
    "print(P)"
   ]
  },
  {
   "cell_type": "code",
   "execution_count": null,
   "metadata": {},
   "outputs": [],
   "source": []
  }
 ],
 "metadata": {
  "kernelspec": {
   "display_name": "Python 3",
   "language": "python",
   "name": "python3"
  },
  "language_info": {
   "codemirror_mode": {
    "name": "ipython",
    "version": 3
   },
   "file_extension": ".py",
   "mimetype": "text/x-python",
   "name": "python",
   "nbconvert_exporter": "python",
   "pygments_lexer": "ipython3",
   "version": "3.7.4"
  }
 },
 "nbformat": 4,
 "nbformat_minor": 4
}
