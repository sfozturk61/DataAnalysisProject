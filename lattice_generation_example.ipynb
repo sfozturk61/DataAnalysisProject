{
 "cells": [
  {
   "cell_type": "code",
   "execution_count": 2,
   "metadata": {},
   "outputs": [],
   "source": [
    "%matplotlib inline \n",
    "\n",
    "from lattice_generation import GeneratedLatticeImage"
   ]
  },
  {
   "cell_type": "code",
   "execution_count": 3,
   "metadata": {},
   "outputs": [],
   "source": [
    "N = 3\n",
    "M = 10\n",
    "N_atom = 5\n",
    "N_photon = 100\n",
    "std = 1\n",
    "N_backg = 100\n",
    "lam_backg = 1"
   ]
  },
  {
   "cell_type": "code",
   "execution_count": 4,
   "metadata": {},
   "outputs": [],
   "source": [
    "lattice_image = GeneratedLatticeImage(\n",
    "    N=N,\n",
    "    M=M,\n",
    "    N_atom=N_atom,\n",
    "    N_photon=N_photon,\n",
    "    std=std,\n",
    "    N_backg=N_backg, \n",
    "    lam_backg=lam_backg\n",
    ")"
   ]
  },
  {
   "cell_type": "code",
   "execution_count": 5,
   "metadata": {},
   "outputs": [
    {
     "data": {
      "image/png": "[encoded data removed]",
      "text/plain": [
       "<Figure size 800x800 with 1 Axes>"
      ]
     },
     "metadata": {
      "needs_background": "light"
     },
     "output_type": "display_data"
    }
   ],
   "source": [
    "lattice_image.plot()"
   ]
  },
  {
   "cell_type": "code",
   "execution_count": 6,
   "metadata": {},
   "outputs": [
    {
     "data": {
      "text/plain": [
       "array([[0., 1., 1.],\n",
       "       [0., 0., 0.],\n",
       "       [1., 1., 1.]])"
      ]
     },
     "execution_count": 6,
     "metadata": {},
     "output_type": "execute_result"
    }
   ],
   "source": [
    "lattice_image.actual_lattice"
   ]
  },
  {
   "cell_type": "markdown",
   "metadata": {},
   "source": [
    "## Analysis Part"
   ]
  },
  {
   "cell_type": "code",
   "execution_count": 7,
   "metadata": {},
   "outputs": [],
   "source": [
    "from lattice_analysis import AnalyzeLatticeImages"
   ]
  },
  {
   "cell_type": "code",
   "execution_count": 8,
   "metadata": {},
   "outputs": [],
   "source": [
    "x_loc = lattice_image.x_loc\n",
    "y_loc = lattice_image.y_loc"
   ]
  },
  {
   "cell_type": "code",
   "execution_count": 9,
   "metadata": {},
   "outputs": [
    {
     "name": "stderr",
     "output_type": "stream",
     "text": [
      "logp = -41.492, ||grad|| = 2.0561: 100%|███████████████████████████████████████████████| 8/8 [00:00<00:00, 2698.39it/s]\n",
      "logp = -392.78, ||grad|| = 28.169: 100%|███████████████████████████████████████████████| 9/9 [00:00<00:00, 4570.62it/s]\n",
      "logp = -372.88, ||grad|| = 30.125: 100%|███████████████████████████████████████████████| 9/9 [00:00<00:00, 4435.81it/s]\n",
      "logp = -64.477, ||grad|| = 0.0046696: 100%|██████████████████████████████████████████| 21/21 [00:00<00:00, 5264.82it/s]\n",
      "logp = -27.633, ||grad|| = 0.0019643: 100%|██████████████████████████████████████████| 20/20 [00:00<00:00, 3360.69it/s]\n",
      "logp = -55.198, ||grad|| = 7.6491e-07: 100%|█████████████████████████████████████████| 12/12 [00:00<00:00, 3006.85it/s]\n",
      "logp = -420.76, ||grad|| = 24.797: 100%|███████████████████████████████████████████████| 8/8 [00:00<00:00, 4009.85it/s]\n",
      "logp = -398.71, ||grad|| = 26.645: 100%|███████████████████████████████████████████████| 8/8 [00:00<00:00, 4021.38it/s]\n",
      "logp = -379.37, ||grad|| = 28.345: 100%|███████████████████████████████████████████████| 9/9 [00:00<00:00, 4509.47it/s]\n"
     ]
    },
    {
     "name": "stdout",
     "output_type": "stream",
     "text": [
      "Wall time: 28.5 s\n"
     ]
    }
   ],
   "source": [
    "%time P = AnalyzeLatticeImages(N, M, std, x_loc, y_loc)"
   ]
  },
  {
   "cell_type": "code",
   "execution_count": 10,
   "metadata": {},
   "outputs": [
    {
     "name": "stdout",
     "output_type": "stream",
     "text": [
      "[[19.9 90.5 91.9]\n",
      " [ 0.   0.   3. ]\n",
      " [84.3 87.4 91.5]]\n"
     ]
    }
   ],
   "source": [
    "AnalyzeLatticeImages.print_occupation(P)"
   ]
  }
 ],
 "metadata": {
  "kernelspec": {
   "display_name": "Python 3",
   "language": "python",
   "name": "python3"
  },
  "language_info": {
   "codemirror_mode": {
    "name": "ipython",
    "version": 3
   },
   "file_extension": ".py",
   "mimetype": "text/x-python",
   "name": "python",
   "nbconvert_exporter": "python",
   "pygments_lexer": "ipython3",
   "version": "3.7.4"
  }
 },
 "nbformat": 4,
 "nbformat_minor": 4
}
