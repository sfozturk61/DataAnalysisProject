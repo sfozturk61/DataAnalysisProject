{
 "cells": [
  {
   "cell_type": "code",
   "execution_count": 1,
   "metadata": {},
   "outputs": [],
   "source": [
    "%matplotlib inline \n",
    "\n",
    "from lattice_generation import GeneratedLatticeImage"
   ]
  },
  {
   "cell_type": "code",
   "execution_count": 2,
   "metadata": {},
   "outputs": [],
   "source": [
    "N = 3\n",
    "M = 10\n",
    "N_atom = 5\n",
    "N_photon = 100\n",
    "std = 1\n",
    "N_backg = 100\n",
    "lam_backg = 1"
   ]
  },
  {
   "cell_type": "code",
   "execution_count": 3,
   "metadata": {},
   "outputs": [],
   "source": [
    "lattice_image = GeneratedLatticeImage(\n",
    "    N=N,\n",
    "    M=M,\n",
    "    N_atom=N_atom,\n",
    "    N_photon=N_photon,\n",
    "    std=std,\n",
    "    N_backg=N_backg, \n",
    "    lam_backg=lam_backg\n",
    ")"
   ]
  },
  {
   "cell_type": "code",
   "execution_count": 4,
   "metadata": {},
   "outputs": [
    {
     "data": {
      "image/png": "[encoded data removed]",
      "text/plain": [
       "<Figure size 800x800 with 1 Axes>"
      ]
     },
     "metadata": {
      "needs_background": "light"
     },
     "output_type": "display_data"
    }
   ],
   "source": [
    "lattice_image.plot()"
   ]
  },
  {
   "cell_type": "code",
   "execution_count": 5,
   "metadata": {},
   "outputs": [
    {
     "data": {
      "text/plain": [
       "array([[0., 1., 0.],\n",
       "       [1., 1., 1.],\n",
       "       [1., 0., 0.]])"
      ]
     },
     "execution_count": 5,
     "metadata": {},
     "output_type": "execute_result"
    }
   ],
   "source": [
    "lattice_image.actual_lattice"
   ]
  },
  {
   "cell_type": "markdown",
   "metadata": {},
   "source": [
    "## Analysis Part"
   ]
  },
  {
   "cell_type": "code",
   "execution_count": 6,
   "metadata": {},
   "outputs": [],
   "source": [
    "from lattice_analysis import AnalyzeLatticeImages"
   ]
  },
  {
   "cell_type": "code",
   "execution_count": 7,
   "metadata": {},
   "outputs": [],
   "source": [
    "x_loc = lattice_image.x_loc\n",
    "y_loc = lattice_image.y_loc"
   ]
  },
  {
   "cell_type": "code",
   "execution_count": 8,
   "metadata": {},
   "outputs": [
    {
     "name": "stderr",
     "output_type": "stream",
     "text": [
      "logp = -45.495, ||grad|| = 1.7393: 100%|███████████████████████████████████████████████| 7/7 [00:00<00:00, 3581.38it/s]\n",
      "logp = -374.53, ||grad|| = 29.289: 100%|███████████████████████████████████████████████| 9/9 [00:00<00:00, 4514.86it/s]\n",
      "logp = -50.66, ||grad|| = 0.0027774: 100%|███████████████████████████████████████████| 21/21 [00:00<00:00, 5263.24it/s]\n",
      "logp = -395.13, ||grad|| = 28.429: 100%|███████████████████████████████████████████████| 8/8 [00:00<00:00, 4008.89it/s]\n",
      "logp = -376.92, ||grad|| = 31.385: 100%|█████████████████████████████████████████████| 10/10 [00:00<00:00, 5014.71it/s]\n",
      "logp = -377.59, ||grad|| = 29.591: 100%|███████████████████████████████████████████████| 9/9 [00:00<00:00, 4491.22it/s]\n",
      "logp = -364.25, ||grad|| = 28.878: 100%|█████████████████████████████████████████████| 10/10 [00:00<00:00, 3382.23it/s]\n",
      "logp = -32.237, ||grad|| = 0.0010717: 100%|██████████████████████████████████████████| 19/19 [00:00<00:00, 4734.26it/s]\n",
      "logp = -69.082, ||grad|| = 0.0040521: 100%|██████████████████████████████████████████| 21/21 [00:00<00:00, 4253.45it/s]\n"
     ]
    },
    {
     "name": "stdout",
     "output_type": "stream",
     "text": [
      "Wall time: 29.2 s\n"
     ]
    }
   ],
   "source": [
    "%time P = AnalyzeLatticeImages(N, M, std, x_loc, y_loc)"
   ]
  },
  {
   "cell_type": "markdown",
   "metadata": {},
   "source": [
    "### Print the array of probabilities that each site is filled"
   ]
  },
  {
   "cell_type": "code",
   "execution_count": 9,
   "metadata": {},
   "outputs": [
    {
     "name": "stdout",
     "output_type": "stream",
     "text": [
      "[[24.1 91.9  0. ]\n",
      " [88.7 93.9 89.2]\n",
      " [95.3  0.   0. ]]\n"
     ]
    }
   ],
   "source": [
    "AnalyzeLatticeImages.print_occupation(P)"
   ]
  }
 ],
 "metadata": {
  "kernelspec": {
   "display_name": "Python 3",
   "language": "python",
   "name": "python3"
  },
  "language_info": {
   "codemirror_mode": {
    "name": "ipython",
    "version": 3
   },
   "file_extension": ".py",
   "mimetype": "text/x-python",
   "name": "python",
   "nbconvert_exporter": "python",
   "pygments_lexer": "ipython3",
   "version": "3.7.4"
  }
 },
 "nbformat": 4,
 "nbformat_minor": 4
}
