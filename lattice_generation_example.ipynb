{
 "cells": [
  {
   "cell_type": "code",
   "execution_count": 1,
   "metadata": {},
   "outputs": [],
   "source": [
    "%matplotlib inline \n",
    "\n",
    "from lattice_generation import GeneratedLatticeImage"
   ]
  },
  {
   "cell_type": "code",
   "execution_count": 2,
   "metadata": {},
   "outputs": [],
   "source": [
    "N = 3\n",
    "M = 10\n",
    "N_atom = 5\n",
    "N_photon = 100\n",
    "std = 1\n",
    "N_backg = 100\n",
    "lam_backg = 1"
   ]
  },
  {
   "cell_type": "code",
   "execution_count": 3,
   "metadata": {},
   "outputs": [],
   "source": [
    "lattice_image = GeneratedLatticeImage(\n",
    "    N=N,\n",
    "    M=M,\n",
    "    N_atom=N_atom,\n",
    "    N_photon=N_photon,\n",
    "    std=std,\n",
    "    N_backg=N_backg, \n",
    "    lam_backg=lam_backg\n",
    ")"
   ]
  },
  {
   "cell_type": "code",
   "execution_count": 4,
   "metadata": {},
   "outputs": [
    {
     "data": {
      "image/png": "[encoded data removed]",
      "text/plain": [
       "<Figure size 800x800 with 1 Axes>"
      ]
     },
     "metadata": {
      "needs_background": "light"
     },
     "output_type": "display_data"
    }
   ],
   "source": [
    "lattice_image.plot()"
   ]
  },
  {
   "cell_type": "code",
   "execution_count": 5,
   "metadata": {},
   "outputs": [
    {
     "data": {
      "text/plain": [
       "array([[1., 1., 1.],\n",
       "       [0., 1., 0.],\n",
       "       [0., 0., 1.]])"
      ]
     },
     "execution_count": 5,
     "metadata": {},
     "output_type": "execute_result"
    }
   ],
   "source": [
    "lattice_image.actual_lattice"
   ]
  },
  {
   "cell_type": "markdown",
   "metadata": {},
   "source": [
    "## Analysis Part"
   ]
  },
  {
   "cell_type": "code",
   "execution_count": 6,
   "metadata": {},
   "outputs": [],
   "source": [
    "from lattice_analysis import AnalyzeLatticeImages"
   ]
  },
  {
   "cell_type": "code",
   "execution_count": 7,
   "metadata": {},
   "outputs": [],
   "source": [
    "x_loc = lattice_image.x_loc\n",
    "y_loc = lattice_image.y_loc"
   ]
  },
  {
   "cell_type": "code",
   "execution_count": 8,
   "metadata": {},
   "outputs": [
    {
     "name": "stderr",
     "output_type": "stream",
     "text": [
      "logp = -379.78, ||grad|| = 28.407: 100%|███████████████████████████████████████████████| 9/9 [00:00<00:00, 3044.99it/s]\n",
      "logp = -375.03, ||grad|| = 29.69: 100%|████████████████████████████████████████████████| 9/9 [00:00<00:00, 4504.62it/s]\n",
      "logp = -364.35, ||grad|| = 30.304: 100%|███████████████████████████████████████████████| 9/9 [00:00<00:00, 4508.93it/s]\n",
      "logp = -50.66, ||grad|| = 0.0034453: 100%|███████████████████████████████████████████| 21/21 [00:00<00:00, 5263.56it/s]\n",
      "logp = -381.81, ||grad|| = 29.721: 100%|█████████████████████████████████████████████| 10/10 [00:00<00:00, 5115.63it/s]\n",
      "logp = -33.789, ||grad|| = 1.7607: 100%|█████████████████████████████████████████████| 11/11 [00:00<00:00, 5597.15it/s]\n",
      "logp = -32.238, ||grad|| = 0.0020969: 100%|██████████████████████████████████████████| 20/20 [00:00<00:00, 5056.42it/s]\n",
      "logp = -55.265, ||grad|| = 0.003399: 100%|███████████████████████████████████████████| 21/21 [00:00<00:00, 5265.13it/s]\n",
      "logp = -366.75, ||grad|| = 29.515: 100%|█████████████████████████████████████████████| 10/10 [00:00<00:00, 5029.74it/s]\n"
     ]
    },
    {
     "name": "stdout",
     "output_type": "stream",
     "text": [
      "Wall time: 49.8 s\n"
     ]
    }
   ],
   "source": [
    "%time P = AnalyzeLatticeImages(N, M, std, x_loc, y_loc)"
   ]
  },
  {
   "cell_type": "code",
   "execution_count": 9,
   "metadata": {},
   "outputs": [
    {
     "name": "stdout",
     "output_type": "stream",
     "text": [
      "[[90.5 92.2 90.3]\n",
      " [ 0.  93.   6.1]\n",
      " [ 0.   0.  94.4]]\n"
     ]
    }
   ],
   "source": [
    "AnalyzeLatticeImages.print_occupation(P)"
   ]
  }
 ],
 "metadata": {
  "kernelspec": {
   "display_name": "Python 3",
   "language": "python",
   "name": "python3"
  },
  "language_info": {
   "codemirror_mode": {
    "name": "ipython",
    "version": 3
   },
   "file_extension": ".py",
   "mimetype": "text/x-python",
   "name": "python",
   "nbconvert_exporter": "python",
   "pygments_lexer": "ipython3",
   "version": "3.7.4"
  }
 },
 "nbformat": 4,
 "nbformat_minor": 4
}
